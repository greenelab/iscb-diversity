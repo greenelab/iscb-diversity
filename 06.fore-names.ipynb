{
 "cells": [
  {
   "cell_type": "markdown",
   "metadata": {},
   "source": [
    "# Convert fore names to simplified (one word) fore names"
   ]
  },
  {
   "cell_type": "code",
   "execution_count": 1,
   "metadata": {},
   "outputs": [],
   "source": [
    "import string\n",
    "import pandas"
   ]
  },
  {
   "cell_type": "code",
   "execution_count": 2,
   "metadata": {},
   "outputs": [
    {
     "data": {
      "text/plain": [
       "222712"
      ]
     },
     "execution_count": 2,
     "metadata": {},
     "output_type": "execute_result"
    }
   ],
   "source": [
    "name_df_pubmed = pandas.read_table('data/pubmed/authors.tsv.xz', keep_default_na=False)\n",
    "name_df_pmc = pandas.read_table('data/pmc/authors.tsv.xz', keep_default_na=False)\n",
    "name_df_ismb = pandas.read_table('data/ismb/keynotes.tsv', keep_default_na=False)\n",
    "\n",
    "fore_names = pandas.concat([\n",
    "    name_df_pubmed.fore_name,\n",
    "    name_df_pmc.fore_name,\n",
    "    name_df_ismb.fore_name,\n",
    "])\n",
    "len(fore_names)"
   ]
  },
  {
   "cell_type": "code",
   "execution_count": 3,
   "metadata": {},
   "outputs": [
    {
     "data": {
      "text/plain": [
       "False    222712\n",
       "Name: fore_name, dtype: int64"
      ]
     },
     "execution_count": 3,
     "metadata": {},
     "output_type": "execute_result"
    }
   ],
   "source": [
    "fore_names.isna().value_counts()"
   ]
  },
  {
   "cell_type": "code",
   "execution_count": 4,
   "metadata": {},
   "outputs": [],
   "source": [
    "def simplify_fore_name(name, lower=False):\n",
    "    \"\"\"\n",
    "    # Convert period to space\n",
    "    # Split on whitespace\n",
    "    # Strip punctuation (on termini)\n",
    "    # Discard <=1 letter strings\n",
    "    # Discard <=3 letter strings that are ALL CAPS\n",
    "    # If one string remains, return\n",
    "    \"\"\"\n",
    "    if pandas.isna(name):\n",
    "        return None\n",
    "    assert isinstance(name, str)\n",
    "    name_ = name.replace('.', ' ')\n",
    "    words = name_.split()\n",
    "    for word in words:\n",
    "        word = word.strip(string.punctuation)\n",
    "        if len(word) <= 1:\n",
    "            continue\n",
    "        if word.upper() == word and len(word) <= 3:\n",
    "            continue\n",
    "        if lower:\n",
    "            word = word.lower()\n",
    "        return word"
   ]
  },
  {
   "cell_type": "code",
   "execution_count": 5,
   "metadata": {},
   "outputs": [],
   "source": [
    "fore_name_to_simple = {\n",
    "    x: simplify_fore_name(x, lower=True)\n",
    "    for x in sorted(fore_names.dropna().unique())\n",
    "}"
   ]
  },
  {
   "cell_type": "code",
   "execution_count": 6,
   "metadata": {
    "scrolled": true
   },
   "outputs": [
    {
     "data": {
      "text/html": [
       "<div>\n",
       "<style scoped>\n",
       "    .dataframe tbody tr th:only-of-type {\n",
       "        vertical-align: middle;\n",
       "    }\n",
       "\n",
       "    .dataframe tbody tr th {\n",
       "        vertical-align: top;\n",
       "    }\n",
       "\n",
       "    .dataframe thead th {\n",
       "        text-align: right;\n",
       "    }\n",
       "</style>\n",
       "<table border=\"1\" class=\"dataframe\">\n",
       "  <thead>\n",
       "    <tr style=\"text-align: right;\">\n",
       "      <th></th>\n",
       "      <th>name</th>\n",
       "      <th>count</th>\n",
       "    </tr>\n",
       "  </thead>\n",
       "  <tbody>\n",
       "    <tr>\n",
       "      <td>0</td>\n",
       "      <td>david</td>\n",
       "      <td>3006</td>\n",
       "    </tr>\n",
       "    <tr>\n",
       "      <td>1</td>\n",
       "      <td>michael</td>\n",
       "      <td>2777</td>\n",
       "    </tr>\n",
       "    <tr>\n",
       "      <td>2</td>\n",
       "      <td>john</td>\n",
       "      <td>1692</td>\n",
       "    </tr>\n",
       "    <tr>\n",
       "      <td>3</td>\n",
       "      <td>thomas</td>\n",
       "      <td>1612</td>\n",
       "    </tr>\n",
       "    <tr>\n",
       "      <td>4</td>\n",
       "      <td>daniel</td>\n",
       "      <td>1593</td>\n",
       "    </tr>\n",
       "  </tbody>\n",
       "</table>\n",
       "</div>"
      ],
      "text/plain": [
       "      name  count\n",
       "0    david   3006\n",
       "1  michael   2777\n",
       "2     john   1692\n",
       "3   thomas   1612\n",
       "4   daniel   1593"
      ]
     },
     "execution_count": 6,
     "metadata": {},
     "output_type": "execute_result"
    }
   ],
   "source": [
    "simple_names_df = fore_names.map(fore_name_to_simple).value_counts(dropna=True).reset_index()\n",
    "simple_names_df.columns = ['name', 'count']\n",
    "assert simple_names_df.name.isna().sum() == 0\n",
    "simple_names_df.head(5)"
   ]
  },
  {
   "cell_type": "code",
   "execution_count": 7,
   "metadata": {},
   "outputs": [
    {
     "data": {
      "text/html": [
       "<div>\n",
       "<style scoped>\n",
       "    .dataframe tbody tr th:only-of-type {\n",
       "        vertical-align: middle;\n",
       "    }\n",
       "\n",
       "    .dataframe tbody tr th {\n",
       "        vertical-align: top;\n",
       "    }\n",
       "\n",
       "    .dataframe thead th {\n",
       "        text-align: right;\n",
       "    }\n",
       "</style>\n",
       "<table border=\"1\" class=\"dataframe\">\n",
       "  <thead>\n",
       "    <tr style=\"text-align: right;\">\n",
       "      <th></th>\n",
       "      <th>name</th>\n",
       "      <th>count</th>\n",
       "    </tr>\n",
       "  </thead>\n",
       "  <tbody>\n",
       "    <tr>\n",
       "      <td>230</td>\n",
       "      <td>rebecca</td>\n",
       "      <td>136</td>\n",
       "    </tr>\n",
       "    <tr>\n",
       "      <td>1985</td>\n",
       "      <td>joeri</td>\n",
       "      <td>17</td>\n",
       "    </tr>\n",
       "    <tr>\n",
       "      <td>2455</td>\n",
       "      <td>marleen</td>\n",
       "      <td>13</td>\n",
       "    </tr>\n",
       "    <tr>\n",
       "      <td>2685</td>\n",
       "      <td>yoo-ah</td>\n",
       "      <td>12</td>\n",
       "    </tr>\n",
       "    <tr>\n",
       "      <td>5782</td>\n",
       "      <td>dongliang</td>\n",
       "      <td>5</td>\n",
       "    </tr>\n",
       "    <tr>\n",
       "      <td>7749</td>\n",
       "      <td>isis</td>\n",
       "      <td>4</td>\n",
       "    </tr>\n",
       "    <tr>\n",
       "      <td>6940</td>\n",
       "      <td>sertan</td>\n",
       "      <td>4</td>\n",
       "    </tr>\n",
       "    <tr>\n",
       "      <td>8442</td>\n",
       "      <td>heewook</td>\n",
       "      <td>3</td>\n",
       "    </tr>\n",
       "    <tr>\n",
       "      <td>8074</td>\n",
       "      <td>michihiro</td>\n",
       "      <td>3</td>\n",
       "    </tr>\n",
       "    <tr>\n",
       "      <td>8512</td>\n",
       "      <td>shanlin</td>\n",
       "      <td>3</td>\n",
       "    </tr>\n",
       "    <tr>\n",
       "      <td>9115</td>\n",
       "      <td>feng-biao</td>\n",
       "      <td>3</td>\n",
       "    </tr>\n",
       "    <tr>\n",
       "      <td>8351</td>\n",
       "      <td>lizong</td>\n",
       "      <td>3</td>\n",
       "    </tr>\n",
       "    <tr>\n",
       "      <td>14444</td>\n",
       "      <td>h-hilger</td>\n",
       "      <td>2</td>\n",
       "    </tr>\n",
       "    <tr>\n",
       "      <td>10478</td>\n",
       "      <td>georgette</td>\n",
       "      <td>2</td>\n",
       "    </tr>\n",
       "    <tr>\n",
       "      <td>11482</td>\n",
       "      <td>shivkumar</td>\n",
       "      <td>2</td>\n",
       "    </tr>\n",
       "    <tr>\n",
       "      <td>9880</td>\n",
       "      <td>francescol</td>\n",
       "      <td>2</td>\n",
       "    </tr>\n",
       "    <tr>\n",
       "      <td>10966</td>\n",
       "      <td>arezou</td>\n",
       "      <td>2</td>\n",
       "    </tr>\n",
       "    <tr>\n",
       "      <td>17492</td>\n",
       "      <td>ozgür</td>\n",
       "      <td>1</td>\n",
       "    </tr>\n",
       "    <tr>\n",
       "      <td>18570</td>\n",
       "      <td>peijing</td>\n",
       "      <td>1</td>\n",
       "    </tr>\n",
       "    <tr>\n",
       "      <td>17487</td>\n",
       "      <td>iva</td>\n",
       "      <td>1</td>\n",
       "    </tr>\n",
       "  </tbody>\n",
       "</table>\n",
       "</div>"
      ],
      "text/plain": [
       "             name  count\n",
       "230       rebecca    136\n",
       "1985        joeri     17\n",
       "2455      marleen     13\n",
       "2685       yoo-ah     12\n",
       "5782    dongliang      5\n",
       "7749         isis      4\n",
       "6940       sertan      4\n",
       "8442      heewook      3\n",
       "8074    michihiro      3\n",
       "8512      shanlin      3\n",
       "9115    feng-biao      3\n",
       "8351       lizong      3\n",
       "14444    h-hilger      2\n",
       "10478   georgette      2\n",
       "11482   shivkumar      2\n",
       "9880   francescol      2\n",
       "10966      arezou      2\n",
       "17492       ozgür      1\n",
       "18570     peijing      1\n",
       "17487         iva      1"
      ]
     },
     "execution_count": 7,
     "metadata": {},
     "output_type": "execute_result"
    }
   ],
   "source": [
    "simple_names_df.sample(n=20, random_state=0).sort_values('count', ascending=False)"
   ]
  },
  {
   "cell_type": "code",
   "execution_count": 8,
   "metadata": {},
   "outputs": [
    {
     "data": {
      "text/plain": [
       "0.5984371408871524"
      ]
     },
     "execution_count": 8,
     "metadata": {},
     "output_type": "execute_result"
    }
   ],
   "source": [
    "# What percents of names in top 1000 most popular\n",
    "(simple_names_df['count'].cumsum() / sum(simple_names_df['count']))[1_000]"
   ]
  },
  {
   "cell_type": "code",
   "execution_count": 9,
   "metadata": {},
   "outputs": [],
   "source": [
    "simple_names_df.sort_values('name').to_csv('data/gender/simplified-fore-names.tsv', sep='\\t', index=False)"
   ]
  }
 ],
 "metadata": {
  "kernelspec": {
   "display_name": "Python 3",
   "language": "python",
   "name": "python3"
  },
  "language_info": {
   "codemirror_mode": {
    "name": "ipython",
    "version": 3
   },
   "file_extension": ".py",
   "mimetype": "text/x-python",
   "name": "python",
   "nbconvert_exporter": "python",
   "pygments_lexer": "ipython3",
   "version": "3.7.4"
  }
 },
 "nbformat": 4,
 "nbformat_minor": 2
}
