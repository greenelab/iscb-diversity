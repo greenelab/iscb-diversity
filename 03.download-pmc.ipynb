{
 "cells": [
  {
   "cell_type": "markdown",
   "metadata": {},
   "source": [
    "# Download articles from PubMed Central\n",
    "\n",
    "https://www.ncbi.nlm.nih.gov/pmc/tools/oai/"
   ]
  },
  {
   "cell_type": "code",
   "execution_count": 1,
   "metadata": {},
   "outputs": [],
   "source": [
    "import logging\n",
    "import zipfile\n",
    "import tqdm\n",
    "\n",
    "import lxml.etree\n",
    "import pandas\n",
    "import sickle\n",
    "from pubmedpy.pmc_oai import (\n",
    "    download_frontmatter_set,\n",
    "    extract_authors_from_article,\n",
    "    get_sets_for_pmcid,\n",
    ")"
   ]
  },
  {
   "cell_type": "markdown",
   "metadata": {},
   "source": [
    "## Specify PMC-OAI sets"
   ]
  },
  {
   "cell_type": "code",
   "execution_count": 2,
   "metadata": {},
   "outputs": [
    {
     "data": {
      "text/html": [
       "<div>\n",
       "<style scoped>\n",
       "    .dataframe tbody tr th:only-of-type {\n",
       "        vertical-align: middle;\n",
       "    }\n",
       "\n",
       "    .dataframe tbody tr th {\n",
       "        vertical-align: top;\n",
       "    }\n",
       "\n",
       "    .dataframe thead th {\n",
       "        text-align: right;\n",
       "    }\n",
       "</style>\n",
       "<table border=\"1\" class=\"dataframe\">\n",
       "  <thead>\n",
       "    <tr style=\"text-align: right;\">\n",
       "      <th></th>\n",
       "      <th>pmcid</th>\n",
       "      <th>journal</th>\n",
       "      <th>oai_set</th>\n",
       "    </tr>\n",
       "  </thead>\n",
       "  <tbody>\n",
       "    <tr>\n",
       "      <th>18791</th>\n",
       "      <td>PMC4287445</td>\n",
       "      <td>BMC Bioinformatics</td>\n",
       "      <td>bmcbioi, pmc-open</td>\n",
       "    </tr>\n",
       "    <tr>\n",
       "      <th>28789</th>\n",
       "      <td>PMC6712676</td>\n",
       "      <td>BMC Bioinformatics</td>\n",
       "      <td>bmcbioi, pmc-open</td>\n",
       "    </tr>\n",
       "    <tr>\n",
       "      <th>10413</th>\n",
       "      <td>PMC2859132</td>\n",
       "      <td>Bioinformatics</td>\n",
       "      <td>bioinfo, pmc-open</td>\n",
       "    </tr>\n",
       "    <tr>\n",
       "      <th>21940</th>\n",
       "      <td>PMC4937203</td>\n",
       "      <td>Bioinformatics</td>\n",
       "      <td>bioinfo, pmc-open</td>\n",
       "    </tr>\n",
       "    <tr>\n",
       "      <th>10608</th>\n",
       "      <td>PMC2861704</td>\n",
       "      <td>PLoS Comput Biol</td>\n",
       "      <td>ploscomp, pmc-open</td>\n",
       "    </tr>\n",
       "    <tr>\n",
       "      <th>14075</th>\n",
       "      <td>PMC3325185</td>\n",
       "      <td>PLoS Comput Biol</td>\n",
       "      <td>ploscomp, pmc-open</td>\n",
       "    </tr>\n",
       "  </tbody>\n",
       "</table>\n",
       "</div>"
      ],
      "text/plain": [
       "            pmcid             journal             oai_set\n",
       "18791  PMC4287445  BMC Bioinformatics   bmcbioi, pmc-open\n",
       "28789  PMC6712676  BMC Bioinformatics   bmcbioi, pmc-open\n",
       "10413  PMC2859132      Bioinformatics   bioinfo, pmc-open\n",
       "21940  PMC4937203      Bioinformatics   bioinfo, pmc-open\n",
       "10608  PMC2861704    PLoS Comput Biol  ploscomp, pmc-open\n",
       "14075  PMC3325185    PLoS Comput Biol  ploscomp, pmc-open"
      ]
     },
     "execution_count": 2,
     "metadata": {},
     "output_type": "execute_result"
    }
   ],
   "source": [
    "# For each journal in articles.tsv.xz, show two articles and their corresponding sets\n",
    "pubmed_df = pandas.read_table('data/pubmed/articles.tsv.xz')\n",
    "pubmed_df = pubmed_df[['pmcid', 'journal']].dropna()\n",
    "journal_to_n_articles = pubmed_df.journal.value_counts().to_dict()\n",
    "journal_df = (\n",
    "    pubmed_df\n",
    "    .sample(frac=1, random_state=0)\n",
    "    .groupby('journal').head(2)\n",
    "    .sort_values(['journal', 'pmcid'])\n",
    ")\n",
    "journal_df[\"oai_set\"] = [\n",
    "    ', '.join(get_sets_for_pmcid(pmcid))\n",
    "    for pmcid in journal_df.pmcid\n",
    "]\n",
    "journal_df"
   ]
  },
  {
   "cell_type": "code",
   "execution_count": 3,
   "metadata": {},
   "outputs": [],
   "source": [
    "# Define journals to download article frontmatter for\n",
    "journal_to_oai_set = {\n",
    "    'BMC Bioinformatics': 'bmcbioi',\n",
    "    'Bioinformatics': 'bioinfo',\n",
    "    'PLoS Comput Biol': 'ploscomp',\n",
    "}"
   ]
  },
  {
   "cell_type": "markdown",
   "metadata": {},
   "source": [
    "## Dowload sets"
   ]
  },
  {
   "cell_type": "code",
   "execution_count": 4,
   "metadata": {},
   "outputs": [
    {
     "data": {
      "application/vnd.jupyter.widget-view+json": {
       "model_id": "0a2d06584fbf432eb7d903c8e7cf8c5a",
       "version_major": 2,
       "version_minor": 0
      },
      "text/plain": [
       "HBox(children=(IntProgress(value=0, description='bmcbioi', max=9273, style=ProgressStyle(description_width='in…"
      ]
     },
     "metadata": {},
     "output_type": "display_data"
    },
    {
     "name": "stdout",
     "output_type": "stream",
     "text": [
      "\n"
     ]
    },
    {
     "data": {
      "application/vnd.jupyter.widget-view+json": {
       "model_id": "454c594363dc4a2c820bd3d888d38a9b",
       "version_major": 2,
       "version_minor": 0
      },
      "text/plain": [
       "HBox(children=(IntProgress(value=0, description='bioinfo', max=5072, style=ProgressStyle(description_width='in…"
      ]
     },
     "metadata": {},
     "output_type": "display_data"
    },
    {
     "name": "stdout",
     "output_type": "stream",
     "text": [
      "\n"
     ]
    },
    {
     "data": {
      "application/vnd.jupyter.widget-view+json": {
       "model_id": "44674d0ccac24a0885466f291b1bd958",
       "version_major": 2,
       "version_minor": 0
      },
      "text/plain": [
       "HBox(children=(IntProgress(value=0, description='ploscomp', max=6458, style=ProgressStyle(description_width='i…"
      ]
     },
     "metadata": {},
     "output_type": "display_data"
    },
    {
     "name": "stdout",
     "output_type": "stream",
     "text": [
      "\n"
     ]
    }
   ],
   "source": [
    "for journal, oai_set in journal_to_oai_set.items():\n",
    "    path = f'data/pmc/oai/pmc_fm/{oai_set}.zip'\n",
    "    download_frontmatter_set(\n",
    "        oai_set,\n",
    "        path,\n",
    "        tqdm=tqdm.tqdm_notebook,\n",
    "        n_records=journal_to_n_articles[journal],\n",
    "    )"
   ]
  },
  {
   "cell_type": "code",
   "execution_count": 5,
   "metadata": {},
   "outputs": [
    {
     "name": "stdout",
     "output_type": "stream",
     "text": [
      "total 57M\r\n",
      "12M bioinfo.zip  25M bmcbioi.zip  22M ploscomp.zip\r\n"
     ]
    }
   ],
   "source": [
    "! ls --size --human-readable data/pmc/oai/pmc_fm"
   ]
  }
 ],
 "metadata": {
  "kernelspec": {
   "display_name": "Python 3",
   "language": "python",
   "name": "python3"
  },
  "language_info": {
   "codemirror_mode": {
    "name": "ipython",
    "version": 3
   },
   "file_extension": ".py",
   "mimetype": "text/x-python",
   "name": "python",
   "nbconvert_exporter": "python",
   "pygments_lexer": "ipython3",
   "version": "3.7.4"
  }
 },
 "nbformat": 4,
 "nbformat_minor": 2
}
