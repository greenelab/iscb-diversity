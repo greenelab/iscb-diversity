{
 "cells": [
  {
   "cell_type": "markdown",
   "metadata": {},
   "source": [
    "# Download articles from PubMed Central\n",
    "\n",
    "https://www.ncbi.nlm.nih.gov/pmc/tools/oai/"
   ]
  },
  {
   "cell_type": "code",
   "execution_count": 1,
   "metadata": {},
   "outputs": [],
   "source": [
    "import logging\n",
    "import zipfile\n",
    "import tqdm\n",
    "\n",
    "import lxml.etree\n",
    "import pandas\n",
    "import sickle\n",
    "from pubmedpy.pmc_oai import (\n",
    "    download_frontmatter_set,\n",
    "    extract_authors_from_article,\n",
    "    get_sets_for_pmcid,\n",
    ")"
   ]
  },
  {
   "cell_type": "markdown",
   "metadata": {},
   "source": [
    "## Specify PMC-OAI sets"
   ]
  },
  {
   "cell_type": "code",
   "execution_count": 2,
   "metadata": {},
   "outputs": [
    {
     "data": {
      "text/html": [
       "<div>\n",
       "<style scoped>\n",
       "    .dataframe tbody tr th:only-of-type {\n",
       "        vertical-align: middle;\n",
       "    }\n",
       "\n",
       "    .dataframe tbody tr th {\n",
       "        vertical-align: top;\n",
       "    }\n",
       "\n",
       "    .dataframe thead th {\n",
       "        text-align: right;\n",
       "    }\n",
       "</style>\n",
       "<table border=\"1\" class=\"dataframe\">\n",
       "  <thead>\n",
       "    <tr style=\"text-align: right;\">\n",
       "      <th></th>\n",
       "      <th>pmcid</th>\n",
       "      <th>journal</th>\n",
       "      <th>oai_set</th>\n",
       "    </tr>\n",
       "  </thead>\n",
       "  <tbody>\n",
       "    <tr>\n",
       "      <td>5678</td>\n",
       "      <td>PMC2092437</td>\n",
       "      <td>BMC Bioinformatics</td>\n",
       "      <td>bmcbioi, pmc-open</td>\n",
       "    </tr>\n",
       "    <tr>\n",
       "      <td>12870</td>\n",
       "      <td>PMC3248887</td>\n",
       "      <td>BMC Bioinformatics</td>\n",
       "      <td>bmcbioi, pmc-open</td>\n",
       "    </tr>\n",
       "    <tr>\n",
       "      <td>8406</td>\n",
       "      <td>PMC2687970</td>\n",
       "      <td>Bioinformatics</td>\n",
       "      <td>bioinfo, pmc-open</td>\n",
       "    </tr>\n",
       "    <tr>\n",
       "      <td>24181</td>\n",
       "      <td>PMC5860615</td>\n",
       "      <td>Bioinformatics</td>\n",
       "      <td>bioinfo</td>\n",
       "    </tr>\n",
       "    <tr>\n",
       "      <td>9666</td>\n",
       "      <td>PMC2816690</td>\n",
       "      <td>PLoS Comput Biol</td>\n",
       "      <td>ploscomp, pmc-open</td>\n",
       "    </tr>\n",
       "    <tr>\n",
       "      <td>13793</td>\n",
       "      <td>PMC3355066</td>\n",
       "      <td>PLoS Comput Biol</td>\n",
       "      <td>ploscomp, pmc-open</td>\n",
       "    </tr>\n",
       "  </tbody>\n",
       "</table>\n",
       "</div>"
      ],
      "text/plain": [
       "            pmcid             journal             oai_set\n",
       "5678   PMC2092437  BMC Bioinformatics   bmcbioi, pmc-open\n",
       "12870  PMC3248887  BMC Bioinformatics   bmcbioi, pmc-open\n",
       "8406   PMC2687970      Bioinformatics   bioinfo, pmc-open\n",
       "24181  PMC5860615      Bioinformatics             bioinfo\n",
       "9666   PMC2816690    PLoS Comput Biol  ploscomp, pmc-open\n",
       "13793  PMC3355066    PLoS Comput Biol  ploscomp, pmc-open"
      ]
     },
     "execution_count": 2,
     "metadata": {},
     "output_type": "execute_result"
    }
   ],
   "source": [
    "# For each journal in articles.tsv.xz, show two articles and their corresponding sets\n",
    "pubmed_df = pandas.read_table('data/pubmed/articles.tsv.xz')\n",
    "pubmed_df = pubmed_df[['pmcid', 'journal']].dropna()\n",
    "journal_to_n_articles = pubmed_df.journal.value_counts().to_dict()\n",
    "journal_df = (\n",
    "    pubmed_df\n",
    "    .sample(frac=1, random_state=0)\n",
    "    .groupby('journal').head(2)\n",
    "    .sort_values(['journal', 'pmcid'])\n",
    ")\n",
    "journal_df[\"oai_set\"] = [\n",
    "    ', '.join(get_sets_for_pmcid(pmcid))\n",
    "    for pmcid in journal_df.pmcid\n",
    "]\n",
    "journal_df"
   ]
  },
  {
   "cell_type": "code",
   "execution_count": 3,
   "metadata": {},
   "outputs": [],
   "source": [
    "# Define journals to download article frontmatter for\n",
    "journal_to_oai_set = {\n",
    "    'BMC Bioinformatics': 'bmcbioi',\n",
    "    'Bioinformatics': 'bioinfo',\n",
    "    'PLoS Comput Biol': 'ploscomp',\n",
    "}"
   ]
  },
  {
   "cell_type": "markdown",
   "metadata": {},
   "source": [
    "## Dowload sets"
   ]
  },
  {
   "cell_type": "code",
   "execution_count": 4,
   "metadata": {},
   "outputs": [
    {
     "data": {
      "application/vnd.jupyter.widget-view+json": {
       "model_id": "456c840bc00f41c38855ea50214032c1",
       "version_major": 2,
       "version_minor": 0
      },
      "text/plain": [
       "HBox(children=(IntProgress(value=0, description='bmcbioi', max=9099, style=ProgressStyle(description_width='in…"
      ]
     },
     "metadata": {},
     "output_type": "display_data"
    },
    {
     "name": "stdout",
     "output_type": "stream",
     "text": [
      "\n"
     ]
    },
    {
     "data": {
      "application/vnd.jupyter.widget-view+json": {
       "model_id": "8daad5a105a74d67998162022d2fd276",
       "version_major": 2,
       "version_minor": 0
      },
      "text/plain": [
       "HBox(children=(IntProgress(value=0, description='bioinfo', max=4797, style=ProgressStyle(description_width='in…"
      ]
     },
     "metadata": {},
     "output_type": "display_data"
    },
    {
     "name": "stdout",
     "output_type": "stream",
     "text": [
      "\n"
     ]
    },
    {
     "data": {
      "application/vnd.jupyter.widget-view+json": {
       "model_id": "0d25b9b9e7364987ab3435186de1b91c",
       "version_major": 2,
       "version_minor": 0
      },
      "text/plain": [
       "HBox(children=(IntProgress(value=0, description='ploscomp', max=6297, style=ProgressStyle(description_width='i…"
      ]
     },
     "metadata": {},
     "output_type": "display_data"
    },
    {
     "name": "stdout",
     "output_type": "stream",
     "text": [
      "\n"
     ]
    }
   ],
   "source": [
    "for journal, oai_set in journal_to_oai_set.items():\n",
    "    path = f'data/pmc/oai/pmc_fm/{oai_set}.zip'\n",
    "    download_frontmatter_set(\n",
    "        oai_set,\n",
    "        path,\n",
    "        tqdm=tqdm.tqdm_notebook,\n",
    "        n_records=journal_to_n_articles[journal],\n",
    "    )"
   ]
  },
  {
   "cell_type": "code",
   "execution_count": 5,
   "metadata": {},
   "outputs": [
    {
     "name": "stdout",
     "output_type": "stream",
     "text": [
      "total 54M\r\n",
      "11M bioinfo.zip  23M bmcbioi.zip  21M ploscomp.zip\r\n"
     ]
    }
   ],
   "source": [
    "! ls --size --human-readable data/pmc/oai/pmc_fm"
   ]
  }
 ],
 "metadata": {
  "kernelspec": {
   "display_name": "Python 3",
   "language": "python",
   "name": "python3"
  },
  "language_info": {
   "codemirror_mode": {
    "name": "ipython",
    "version": 3
   },
   "file_extension": ".py",
   "mimetype": "text/x-python",
   "name": "python",
   "nbconvert_exporter": "python",
   "pygments_lexer": "ipython3",
   "version": "3.7.4"
  }
 },
 "nbformat": 4,
 "nbformat_minor": 2
}
