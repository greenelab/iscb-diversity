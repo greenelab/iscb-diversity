{
 "cells": [
  {
   "cell_type": "markdown",
   "metadata": {},
   "source": [
    "# Assign country codes to affiliations\n",
    "\n",
    "References:\n",
    "\n",
    "- https://github.com/greenelab/iscb-diversity/issues/8\n",
    "- https://towardsdatascience.com/geoparsing-with-python-c8f4c9f78940\n",
    "- https://github.com/elyase/geotext/issues/23"
   ]
  },
  {
   "cell_type": "code",
   "execution_count": 1,
   "metadata": {},
   "outputs": [],
   "source": [
    "import pathlib\n",
    "import functools\n",
    "import re\n",
    "import lzma\n",
    "\n",
    "import backoff\n",
    "import geotext\n",
    "import geopy.geocoders\n",
    "import jsonlines\n",
    "import pandas\n",
    "import ratelimit\n",
    "import tqdm.notebook"
   ]
  },
  {
   "cell_type": "code",
   "execution_count": 2,
   "metadata": {},
   "outputs": [
    {
     "data": {
      "text/html": [
       "<div>\n",
       "<style scoped>\n",
       "    .dataframe tbody tr th:only-of-type {\n",
       "        vertical-align: middle;\n",
       "    }\n",
       "\n",
       "    .dataframe tbody tr th {\n",
       "        vertical-align: top;\n",
       "    }\n",
       "\n",
       "    .dataframe thead th {\n",
       "        text-align: right;\n",
       "    }\n",
       "</style>\n",
       "<table border=\"1\" class=\"dataframe\">\n",
       "  <thead>\n",
       "    <tr style=\"text-align: right;\">\n",
       "      <th></th>\n",
       "      <th>pmcid</th>\n",
       "      <th>position</th>\n",
       "      <th>affiliation</th>\n",
       "    </tr>\n",
       "  </thead>\n",
       "  <tbody>\n",
       "    <tr>\n",
       "      <th>0</th>\n",
       "      <td>PMC100321</td>\n",
       "      <td>1</td>\n",
       "      <td>1 University of Cologne, Institute of Genetics...</td>\n",
       "    </tr>\n",
       "    <tr>\n",
       "      <th>1</th>\n",
       "      <td>PMC100321</td>\n",
       "      <td>2</td>\n",
       "      <td>1 University of Cologne, Institute of Genetics...</td>\n",
       "    </tr>\n",
       "  </tbody>\n",
       "</table>\n",
       "</div>"
      ],
      "text/plain": [
       "       pmcid  position                                        affiliation\n",
       "0  PMC100321         1  1 University of Cologne, Institute of Genetics...\n",
       "1  PMC100321         2  1 University of Cologne, Institute of Genetics..."
      ]
     },
     "execution_count": 2,
     "metadata": {},
     "output_type": "execute_result"
    }
   ],
   "source": [
    "# read PubMed Central affiliations\n",
    "affil_pmc_df = pandas.read_csv(\"data/pmc/affiliations.tsv.xz\", sep='\\t')\n",
    "assert affil_pmc_df.affiliation.notna().all()\n",
    "affil_pmc_df.head(2)"
   ]
  },
  {
   "cell_type": "code",
   "execution_count": 3,
   "metadata": {},
   "outputs": [
    {
     "data": {
      "text/html": [
       "<div>\n",
       "<style scoped>\n",
       "    .dataframe tbody tr th:only-of-type {\n",
       "        vertical-align: middle;\n",
       "    }\n",
       "\n",
       "    .dataframe tbody tr th {\n",
       "        vertical-align: top;\n",
       "    }\n",
       "\n",
       "    .dataframe thead th {\n",
       "        text-align: right;\n",
       "    }\n",
       "</style>\n",
       "<table border=\"1\" class=\"dataframe\">\n",
       "  <thead>\n",
       "    <tr style=\"text-align: right;\">\n",
       "      <th></th>\n",
       "      <th>pmid</th>\n",
       "      <th>position</th>\n",
       "      <th>affiliation</th>\n",
       "    </tr>\n",
       "  </thead>\n",
       "  <tbody>\n",
       "    <tr>\n",
       "      <th>0</th>\n",
       "      <td>7477412</td>\n",
       "      <td>1</td>\n",
       "      <td>Dept. of Pathology, Cornell Medical College, N...</td>\n",
       "    </tr>\n",
       "    <tr>\n",
       "      <th>1</th>\n",
       "      <td>7479891</td>\n",
       "      <td>1</td>\n",
       "      <td>National Center for Human Genome Research, Nat...</td>\n",
       "    </tr>\n",
       "  </tbody>\n",
       "</table>\n",
       "</div>"
      ],
      "text/plain": [
       "      pmid  position                                        affiliation\n",
       "0  7477412         1  Dept. of Pathology, Cornell Medical College, N...\n",
       "1  7479891         1  National Center for Human Genome Research, Nat..."
      ]
     },
     "execution_count": 3,
     "metadata": {},
     "output_type": "execute_result"
    }
   ],
   "source": [
    "# read PubMed affiliations\n",
    "affil_pm_df = pandas.read_csv(\"data/pubmed/affiliations.tsv.xz\", sep='\\t')\n",
    "assert affil_pm_df.affiliation.notna().all()\n",
    "affil_pm_df.head(2)"
   ]
  },
  {
   "cell_type": "code",
   "execution_count": 4,
   "metadata": {},
   "outputs": [
    {
     "name": "stdout",
     "output_type": "stream",
     "text": [
      "439,400 unique affiliation strings\n"
     ]
    },
    {
     "data": {
      "text/plain": [
       "['\"ASKION\" GmbH, Gewerbepark Keplerstraße 17-19, 07549, Gera, Germany.',\n",
       " '\"Athena\" Research and Innovation Center, Athens, 15125, Greece.',\n",
       " '\"Athena\" Research and Innovation Center, Athens, 15125, Greece. kzagganas@uop.gr.',\n",
       " '\"Biology of Spirochetes\" Unit, Institut Pasteur, 28 Rue Du Docteur Roux, 75724, Paris Cedex 15, France, mathieu.picardeau@pasteur.fr.',\n",
       " '\"Cephalogenetics\" Genetic Center, Athens, Greece.']"
      ]
     },
     "execution_count": 4,
     "metadata": {},
     "output_type": "execute_result"
    }
   ],
   "source": [
    "# combine affiliations from PubMed Central and PubMed\n",
    "affiliations = sorted(set(affil_pmc_df.affiliation) | set(affil_pm_df.affiliation))\n",
    "print(f\"{len(affiliations):,} unique affiliation strings\")\n",
    "affiliations[:5]"
   ]
  },
  {
   "cell_type": "code",
   "execution_count": 5,
   "metadata": {},
   "outputs": [],
   "source": [
    "def get_countries_geotext(text):\n",
    "    \"\"\"\n",
    "    Use geotext package to get country metions.\n",
    "    The returned counts dict maps from country code\n",
    "    to number of places located to that county in the text.\n",
    "\n",
    "    For example, the following code detects GR twice, first for\n",
    "    \"Athens\" and second for \"Greece\":\n",
    "\n",
    "    ```\n",
    "    >>> text = '\"Athena\" Research and Innovation Center, Athens, 15125, Greece.'\n",
    "    >>> get_countries_geotext(text)\n",
    "    {'GR': 2}\n",
    "    ```\n",
    "\n",
    "    See https://github.com/elyase/geotext\n",
    "    \"\"\"\n",
    "    geo_text = geotext.GeoText(text)\n",
    "    return dict(geo_text.country_mentions)\n",
    "\n",
    "geopy.geocoders.options.default_user_agent = 'https://github.com/greenelab/iscb-diversity'\n",
    "geolocator = geopy.geocoders.Nominatim(timeout=5)\n",
    "\n",
    "@functools.lru_cache(maxsize=200_000)\n",
    "@backoff.on_exception(backoff.expo, ratelimit.RateLimitException, max_tries=8)\n",
    "@ratelimit.limits(calls=1, period=1)\n",
    "def _geocode(text):\n",
    "    \"\"\"\n",
    "    https://operations.osmfoundation.org/policies/nominatim/\n",
    "    \"\"\"\n",
    "    return geolocator.geocode(text, addressdetails=True)\n",
    "\n",
    "email_pattern = re.compile(r\"[a-zA-Z0-9_.+-]+@[a-zA-Z0-9-]+\\.[a-zA-Z0-9-.]+\")\n",
    "split_pattern = re.compile(r\"; |, |\\. \")\n",
    "\n",
    "def get_country_geocode(affiliation):\n",
    "    \"\"\"\n",
    "    Lookup country using OSM Nomatim.\n",
    "    Splits affiliations text into parts by punctuation,\n",
    "    searching for country matches in reverse. Parts that\n",
    "    look like email addresses are discarded.\n",
    "    \"\"\"\n",
    "    parts = split_pattern.split(affiliation)\n",
    "    for part in reversed(parts):\n",
    "        part = part.rstrip(\".\")\n",
    "        if email_pattern.fullmatch(part):\n",
    "            continue\n",
    "        location = _geocode(part)\n",
    "        if not location:\n",
    "            continue\n",
    "        try:\n",
    "            return location.raw['address']['country_code'].upper()\n",
    "        except KeyError:\n",
    "            return None\n",
    "\n",
    "\n",
    "def query_affiliation(affiliation: str):\n",
    "    return dict(\n",
    "        affiliation=affiliation,\n",
    "        country_geocode=get_country_geocode(affiliation),\n",
    "        countries_geotext=get_countries_geotext(affiliation),\n",
    "    )"
   ]
  },
  {
   "cell_type": "code",
   "execution_count": 6,
   "metadata": {},
   "outputs": [
    {
     "name": "stdout",
     "output_type": "stream",
     "text": [
      "439,400 total affiliations: 464,780 already queried, 0 new\n"
     ]
    }
   ],
   "source": [
    "# read already queried affiliations\n",
    "path = pathlib.Path('data/affiliations/geocode.jsonl.xz')\n",
    "lines = jsonlines.Reader(lzma.open(path, \"rt\")) if path.exists() else []\n",
    "existing = {row['affiliation'] for row in lines}\n",
    "new = sorted(set(affiliations) - existing)\n",
    "print(f\"{len(affiliations):,} total affiliations: {len(existing):,} already queried, {len(new):,} new\")"
   ]
  },
  {
   "cell_type": "code",
   "execution_count": 7,
   "metadata": {},
   "outputs": [
    {
     "data": {
      "application/vnd.jupyter.widget-view+json": {
       "model_id": "edf8df15af7d44d7a8a5376353b2c1e2",
       "version_major": 2,
       "version_minor": 0
      },
      "text/plain": [
       "HBox(children=(FloatProgress(value=1.0, bar_style='info', max=1.0), HTML(value='')))"
      ]
     },
     "metadata": {},
     "output_type": "display_data"
    },
    {
     "name": "stdout",
     "output_type": "stream",
     "text": [
      "\n"
     ]
    }
   ],
   "source": [
    "# query new affiliations and append to JSON Lines file\n",
    "with lzma.open(path, mode='at') as write_file:\n",
    "    with jsonlines.Writer(write_file) as writer:\n",
    "        for affiliation in tqdm.notebook.tqdm(new):\n",
    "            result = query_affiliation(affiliation)\n",
    "            writer.write(result)"
   ]
  },
  {
   "cell_type": "code",
   "execution_count": 8,
   "metadata": {},
   "outputs": [
    {
     "data": {
      "text/plain": [
       "{'affiliation': \"'Multimodal Computing and Interaction', Saarland University & Department for Computational Biology and Applied Computing, Max Planck Institute for Informatics, Saarbrücken, 66123 Saarland, Germany, Ray and Stephanie Lane Center for Computational Biology, Carnegie Mellon University, Pittsburgh, 15206 PA, USA, Department of Mathematics and Computer Science, Freie Universität Berlin, 14195 Berlin, Germany, Université Pierre et Marie Curie, UMR7238, CNRS-UPMC, Paris, France and CNRS, UMR7238, Laboratory of Computational and Quantitative Biology, Paris, France.\",\n",
       " 'country_geocode': 'FR',\n",
       " 'countries_geotext': {'DE': 4, 'FR': 4, 'US': 2},\n",
       " 'countries': ['DE', 'FR', 'US']}"
      ]
     },
     "execution_count": 8,
     "metadata": {},
     "output_type": "execute_result"
    }
   ],
   "source": [
    "# Read the jsonlines file\n",
    "with jsonlines.Reader(lzma.open(path, \"rt\")) as reader:\n",
    "    lines = list(reader)\n",
    "# Show a single line\n",
    "lines[10]"
   ]
  },
  {
   "cell_type": "code",
   "execution_count": 9,
   "metadata": {},
   "outputs": [],
   "source": [
    "def get_consensus_countries(line: dict) -> list:\n",
    "    \"\"\"\n",
    "    Get a list of countries resulting from a consensus algorithm\n",
    "    between countries_geotext and country_geocode.\n",
    "    \"\"\"\n",
    "    country_geotext: dict = line['countries_geotext']\n",
    "    country_geocode: str = line['country_geocode']\n",
    "    if not country_geotext:\n",
    "        # geotext empty, so use geocode country or nothing\n",
    "        return [country_geocode] if country_geocode else []\n",
    "    countries_gte_2 = {\n",
    "        country: count for country, count in\n",
    "        country_geotext.items() if count >= 2\n",
    "    }\n",
    "    if countries_gte_2:\n",
    "        # countries with multiple mentions according to geotext\n",
    "        return list(countries_gte_2)\n",
    "    if country_geocode and country_geocode in country_geotext:\n",
    "        # geocode country matches a geotext country\n",
    "        return [country_geocode]\n",
    "    return list(country_geotext)"
   ]
  },
  {
   "cell_type": "code",
   "execution_count": 10,
   "metadata": {},
   "outputs": [],
   "source": [
    "for line in lines:\n",
    "    line[\"countries\"] = get_consensus_countries(line)"
   ]
  },
  {
   "cell_type": "code",
   "execution_count": 11,
   "metadata": {},
   "outputs": [
    {
     "data": {
      "text/plain": [
       "{'affiliation': \"'Multimodal Computing and Interaction', Saarland University & Department for Computational Biology and Applied Computing, Max Planck Institute for Informatics, Saarbrücken, 66123 Saarland, Germany, Ray and Stephanie Lane Center for Computational Biology, Carnegie Mellon University, Pittsburgh, 15206 PA, USA, Department of Mathematics and Computer Science, Freie Universität Berlin, 14195 Berlin, Germany, Université Pierre et Marie Curie, UMR7238, CNRS-UPMC, Paris, France and CNRS, UMR7238, Laboratory of Computational and Quantitative Biology, Paris, France.\",\n",
       " 'country_geocode': 'FR',\n",
       " 'countries_geotext': {'DE': 4, 'FR': 4, 'US': 2},\n",
       " 'countries': ['DE', 'FR', 'US']}"
      ]
     },
     "execution_count": 11,
     "metadata": {},
     "output_type": "execute_result"
    }
   ],
   "source": [
    "lines[10]"
   ]
  },
  {
   "cell_type": "code",
   "execution_count": 12,
   "metadata": {},
   "outputs": [],
   "source": [
    "with lzma.open(path, mode='wt') as write_file:\n",
    "    with jsonlines.Writer(write_file) as writer:\n",
    "        writer.write_all(lines)"
   ]
  },
  {
   "cell_type": "code",
   "execution_count": 13,
   "metadata": {},
   "outputs": [
    {
     "data": {
      "text/html": [
       "<div>\n",
       "<style scoped>\n",
       "    .dataframe tbody tr th:only-of-type {\n",
       "        vertical-align: middle;\n",
       "    }\n",
       "\n",
       "    .dataframe tbody tr th {\n",
       "        vertical-align: top;\n",
       "    }\n",
       "\n",
       "    .dataframe thead th {\n",
       "        text-align: right;\n",
       "    }\n",
       "</style>\n",
       "<table border=\"1\" class=\"dataframe\">\n",
       "  <thead>\n",
       "    <tr style=\"text-align: right;\">\n",
       "      <th></th>\n",
       "      <th>affiliation</th>\n",
       "      <th>country</th>\n",
       "    </tr>\n",
       "  </thead>\n",
       "  <tbody>\n",
       "    <tr>\n",
       "      <th>0</th>\n",
       "      <td>\"Athena\" Research and Innovation Center, Athen...</td>\n",
       "      <td>GR</td>\n",
       "    </tr>\n",
       "    <tr>\n",
       "      <th>1</th>\n",
       "      <td>\"Athena\" Research and Innovation Center, Athen...</td>\n",
       "      <td>GR</td>\n",
       "    </tr>\n",
       "  </tbody>\n",
       "</table>\n",
       "</div>"
      ],
      "text/plain": [
       "                                         affiliation country\n",
       "0  \"Athena\" Research and Innovation Center, Athen...      GR\n",
       "1  \"Athena\" Research and Innovation Center, Athen...      GR"
      ]
     },
     "execution_count": 13,
     "metadata": {},
     "output_type": "execute_result"
    }
   ],
   "source": [
    "affil_df = pandas.DataFrame(lines)\n",
    "affil_df = (\n",
    "    affil_df\n",
    "    .explode(\"countries\")\n",
    "    .rename(columns={\"countries\": \"country\"})\n",
    "    .dropna(subset=['country'])\n",
    "    [[\"affiliation\", \"country\"]]\n",
    "    .drop_duplicates()  # for safety, duplicates not expected\n",
    ")\n",
    "affil_df.head(2)"
   ]
  },
  {
   "cell_type": "code",
   "execution_count": 14,
   "metadata": {},
   "outputs": [
    {
     "data": {
      "text/plain": [
       "US    30.79%\n",
       "CN    12.93%\n",
       "GB     6.91%\n",
       "DE     6.09%\n",
       "FR     3.94%\n",
       "CA     3.12%\n",
       "IT     3.10%\n",
       "JP     2.89%\n",
       "ES     2.82%\n",
       "AU     2.62%\n",
       "NL     1.88%\n",
       "IN     1.69%\n",
       "KR     1.65%\n",
       "BR     1.52%\n",
       "CH     1.32%\n",
       "SE     1.25%\n",
       "TW     1.11%\n",
       "BE     1.01%\n",
       "DK     0.96%\n",
       "SG     0.69%\n",
       "Name: country, dtype: object"
      ]
     },
     "execution_count": 14,
     "metadata": {},
     "output_type": "execute_result"
    }
   ],
   "source": [
    "# Most common countries\n",
    "affil_df.country.value_counts(normalize=True).head(20).map(\"{:.02%}\".format)"
   ]
  },
  {
   "cell_type": "code",
   "execution_count": 15,
   "metadata": {},
   "outputs": [],
   "source": [
    "# save affiliations to a table\n",
    "affil_df.to_csv(\"data/affiliations/countries.tsv.xz\", sep='\\t', index=False)"
   ]
  }
 ],
 "metadata": {
  "kernelspec": {
   "display_name": "Python 3",
   "language": "python",
   "name": "python3"
  },
  "language_info": {
   "codemirror_mode": {
    "name": "ipython",
    "version": 3
   },
   "file_extension": ".py",
   "mimetype": "text/x-python",
   "name": "python",
   "nbconvert_exporter": "python",
   "pygments_lexer": "ipython3",
   "version": "3.7.4"
  }
 },
 "nbformat": 4,
 "nbformat_minor": 4
}
