{
 "cells": [
  {
   "cell_type": "markdown",
   "metadata": {},
   "source": [
    "# Download XML efetch records for PubMed IDs in the specified journals\n",
    "\n",
    "Uses functions from `pubmedpy` rather than the `eutils` Python package, which [does not support](https://github.com/biocommons/eutils/issues/124/) pagination."
   ]
  },
  {
   "cell_type": "code",
   "execution_count": 1,
   "metadata": {},
   "outputs": [],
   "source": [
    "import pathlib\n",
    "import lzma\n",
    "import tqdm\n",
    "\n",
    "from pubmedpy.eutilities import esearch_query, download_pubmed_ids"
   ]
  },
  {
   "cell_type": "code",
   "execution_count": 2,
   "metadata": {},
   "outputs": [],
   "source": [
    "# NLM Title Abbreviations from https://www.ncbi.nlm.nih.gov/nlmcatalog/journals\n",
    "# journals = [\n",
    "#     \"Bioinformatics\",\n",
    "#     \"BMC Bioinformatics\",\n",
    "#     \"PLoS Comput Biol\",\n",
    "# ]"
   ]
  },
  {
   "cell_type": "code",
   "execution_count": 3,
   "metadata": {},
   "outputs": [
    {
     "data": {
      "application/vnd.jupyter.widget-view+json": {
       "model_id": "c99bc68ec1584d6895c5e8ae3bb1e117",
       "version_major": 2,
       "version_minor": 0
      },
      "text/plain": [
       "HBox(children=(FloatProgress(value=0.0, max=177262.0), HTML(value='')))"
      ]
     },
     "metadata": {},
     "output_type": "display_data"
    },
    {
     "name": "stdout",
     "output_type": "stream",
     "text": [
      "\n",
      "177,262 articles for English computational biology\n",
      "CPU times: user 1.44 s, sys: 266 ms, total: 1.71 s\n",
      "Wall time: 18.8 s\n"
     ]
    }
   ],
   "source": [
    "%%time\n",
    "# for journal in journals:\n",
    "payload = {\n",
    "    'db': 'pubmed',\n",
    "#         'term': f'\"journal article\"[pt] AND 1993:2019[dp] AND \"{journal}\"[Journal]',\n",
    "    'term': f'\"journal article\"[pt] AND 1993:2019[dp] AND \"computational biology\"[MeSH Terms] AND English[Language]',\n",
    "}\n",
    "pubmed_ids = esearch_query(payload, tqdm=tqdm.tqdm_notebook)\n",
    "pubmed_ids = sorted(map(int, pubmed_ids))\n",
    "print(f'{len(pubmed_ids):,} articles for English computational biology')"
   ]
  },
  {
   "cell_type": "code",
   "execution_count": 4,
   "metadata": {},
   "outputs": [
    {
     "data": {
      "application/vnd.jupyter.widget-view+json": {
       "model_id": "e0fd534fa2f44dc58d72c3e83b839d05",
       "version_major": 2,
       "version_minor": 0
      },
      "text/plain": [
       "HBox(children=(FloatProgress(value=0.0, max=177262.0), HTML(value='')))"
      ]
     },
     "metadata": {},
     "output_type": "display_data"
    },
    {
     "name": "stdout",
     "output_type": "stream",
     "text": [
      "\n",
      "CPU times: user 20min 55s, sys: 19.7 s, total: 21min 15s\n",
      "Wall time: 58min 13s\n"
     ]
    }
   ],
   "source": [
    "%%time\n",
    "path = pathlib.Path('data/pubmed/efetch').joinpath('compbio-english.xml.xz')\n",
    "path.parent.mkdir(parents=True, exist_ok=True)\n",
    "with lzma.open(path, 'wt') as write_file:\n",
    "    download_pubmed_ids(\n",
    "        pubmed_ids, write_file, endpoint='efetch',\n",
    "        retmax=200, retmin=50, sleep=0, error_sleep=1,\n",
    "        tqdm=tqdm.tqdm_notebook,\n",
    "    )"
   ]
  }
 ],
 "metadata": {
  "kernelspec": {
   "display_name": "Python 3",
   "language": "python",
   "name": "python3"
  },
  "language_info": {
   "codemirror_mode": {
    "name": "ipython",
    "version": 3
   },
   "file_extension": ".py",
   "mimetype": "text/x-python",
   "name": "python",
   "nbconvert_exporter": "python",
   "pygments_lexer": "ipython3",
   "version": "3.7.4"
  }
 },
 "nbformat": 4,
 "nbformat_minor": 2
}
