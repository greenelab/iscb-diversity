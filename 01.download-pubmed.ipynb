{
 "cells": [
  {
   "cell_type": "markdown",
   "metadata": {},
   "source": [
    "# Download XML efetch records for PubMed IDs in the specified journals\n",
    "\n",
    "Uses functions from `pubmedpy` rather than the `eutils` Python package, which [does not support](https://github.com/biocommons/eutils/issues/124/) pagination."
   ]
  },
  {
   "cell_type": "code",
   "execution_count": 1,
   "metadata": {},
   "outputs": [],
   "source": [
    "import pathlib\n",
    "import lzma\n",
    "import tqdm\n",
    "\n",
    "from pubmedpy.eutilities import esearch_query, download_pubmed_ids"
   ]
  },
  {
   "cell_type": "code",
   "execution_count": 2,
   "metadata": {},
   "outputs": [],
   "source": [
    "# NLM Title Abbreviations from https://www.ncbi.nlm.nih.gov/nlmcatalog/journals\n",
    "journals = [\n",
    "    \"Bioinformatics\",\n",
    "    \"BMC Bioinformatics\",\n",
    "    \"PLoS Comput Biol\",\n",
    "]"
   ]
  },
  {
   "cell_type": "code",
   "execution_count": 3,
   "metadata": {},
   "outputs": [
    {
     "data": {
      "application/vnd.jupyter.widget-view+json": {
       "model_id": "86685f6e16634b6aaaa0f46d361dafaa",
       "version_major": 2,
       "version_minor": 0
      },
      "text/plain": [
       "HBox(children=(IntProgress(value=0, max=13877), HTML(value='')))"
      ]
     },
     "metadata": {},
     "output_type": "display_data"
    },
    {
     "name": "stdout",
     "output_type": "stream",
     "text": [
      "\n",
      "13,877 articles for Bioinformatics\n"
     ]
    },
    {
     "data": {
      "application/vnd.jupyter.widget-view+json": {
       "model_id": "0f10f6aff83f4655ac2ce193e0f58bd6",
       "version_major": 2,
       "version_minor": 0
      },
      "text/plain": [
       "HBox(children=(IntProgress(value=0, max=13877), HTML(value='')))"
      ]
     },
     "metadata": {},
     "output_type": "display_data"
    },
    {
     "name": "stdout",
     "output_type": "stream",
     "text": [
      "\n"
     ]
    },
    {
     "data": {
      "application/vnd.jupyter.widget-view+json": {
       "model_id": "9776fb88575a4eaf81d385e9f44f45cb",
       "version_major": 2,
       "version_minor": 0
      },
      "text/plain": [
       "HBox(children=(IntProgress(value=0, max=9409), HTML(value='')))"
      ]
     },
     "metadata": {},
     "output_type": "display_data"
    },
    {
     "name": "stdout",
     "output_type": "stream",
     "text": [
      "\n",
      "9,409 articles for BMC Bioinformatics\n"
     ]
    },
    {
     "data": {
      "application/vnd.jupyter.widget-view+json": {
       "model_id": "eded111a766c4502afec9566391d0c49",
       "version_major": 2,
       "version_minor": 0
      },
      "text/plain": [
       "HBox(children=(IntProgress(value=0, max=9409), HTML(value='')))"
      ]
     },
     "metadata": {},
     "output_type": "display_data"
    },
    {
     "name": "stdout",
     "output_type": "stream",
     "text": [
      "\n"
     ]
    },
    {
     "data": {
      "application/vnd.jupyter.widget-view+json": {
       "model_id": "0bf80df7993b447ba9746b996b0f05c4",
       "version_major": 2,
       "version_minor": 0
      },
      "text/plain": [
       "HBox(children=(IntProgress(value=0, max=6509), HTML(value='')))"
      ]
     },
     "metadata": {},
     "output_type": "display_data"
    },
    {
     "name": "stdout",
     "output_type": "stream",
     "text": [
      "\n",
      "6,509 articles for PLoS Comput Biol\n"
     ]
    },
    {
     "data": {
      "application/vnd.jupyter.widget-view+json": {
       "model_id": "fb74bdd103ea436c8365915bdda737cb",
       "version_major": 2,
       "version_minor": 0
      },
      "text/plain": [
       "HBox(children=(IntProgress(value=0, max=6509), HTML(value='')))"
      ]
     },
     "metadata": {},
     "output_type": "display_data"
    },
    {
     "name": "stdout",
     "output_type": "stream",
     "text": [
      "\n",
      "CPU times: user 2min 31s, sys: 5.1 s, total: 2min 36s\n",
      "Wall time: 7min 6s\n"
     ]
    }
   ],
   "source": [
    "%%time\n",
    "for journal in journals:\n",
    "    payload = {\n",
    "        'db': 'pubmed',\n",
    "        'term': f'\"journal article\"[pt] AND 1997:2019[dp] AND \"{journal}\"[Journal]',\n",
    "    }\n",
    "    pubmed_ids = esearch_query(payload, tqdm=tqdm.tqdm_notebook)\n",
    "    pubmed_ids = sorted(map(int, pubmed_ids))\n",
    "    print(f'{len(pubmed_ids):,} articles for {journal}')\n",
    "    \n",
    "    path = pathlib.Path('data/pubmed/efetch').joinpath(f'{journal}.xml.xz')\n",
    "    path.parent.mkdir(parents=True, exist_ok=True)\n",
    "    with lzma.open(path, 'wt') as write_file:\n",
    "        download_pubmed_ids(\n",
    "            pubmed_ids, write_file, endpoint='efetch',\n",
    "            retmax=200, retmin=50, sleep=0, error_sleep=1,\n",
    "            tqdm=tqdm.tqdm_notebook,\n",
    "        )"
   ]
  }
 ],
 "metadata": {
  "kernelspec": {
   "display_name": "Python 3",
   "language": "python",
   "name": "python3"
  },
  "language_info": {
   "codemirror_mode": {
    "name": "ipython",
    "version": 3
   },
   "file_extension": ".py",
   "mimetype": "text/x-python",
   "name": "python",
   "nbconvert_exporter": "python",
   "pygments_lexer": "ipython3",
   "version": "3.7.4"
  }
 },
 "nbformat": 4,
 "nbformat_minor": 2
}
