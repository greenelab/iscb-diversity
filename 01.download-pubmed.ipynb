{
 "cells": [
  {
   "cell_type": "markdown",
   "metadata": {},
   "source": [
    "# Download XML efetch records for PubMed IDs in the specified journals\n",
    "\n",
    "Uses functions from `pubmedpy` rather than the `eutils` Python package, which [does not support](https://github.com/biocommons/eutils/issues/124/) pagination."
   ]
  },
  {
   "cell_type": "code",
   "execution_count": 1,
   "metadata": {},
   "outputs": [],
   "source": [
    "import pathlib\n",
    "import lzma\n",
    "import tqdm\n",
    "\n",
    "from pubmedpy.eutilities import esearch_query, download_pubmed_ids"
   ]
  },
  {
   "cell_type": "code",
   "execution_count": 2,
   "metadata": {},
   "outputs": [],
   "source": [
    "# NLM Title Abbreviations from https://www.ncbi.nlm.nih.gov/nlmcatalog/journals\n",
    "journals = [\n",
    "    \"Bioinformatics\",\n",
    "    \"BMC Bioinformatics\",\n",
    "    \"PLoS Comput Biol\",\n",
    "]"
   ]
  },
  {
   "cell_type": "code",
   "execution_count": 3,
   "metadata": {},
   "outputs": [
    {
     "data": {
      "application/vnd.jupyter.widget-view+json": {
       "model_id": "a37d271ede7d479e8cbf34b228431842",
       "version_major": 2,
       "version_minor": 0
      },
      "text/plain": [
       "HBox(children=(IntProgress(value=0, max=12963), HTML(value='')))"
      ]
     },
     "metadata": {},
     "output_type": "display_data"
    },
    {
     "name": "stdout",
     "output_type": "stream",
     "text": [
      "\n",
      "12,963 articles for Bioinformatics\n"
     ]
    },
    {
     "data": {
      "application/vnd.jupyter.widget-view+json": {
       "model_id": "dad58bb210ad4e1d94e59f7dc90b4198",
       "version_major": 2,
       "version_minor": 0
      },
      "text/plain": [
       "HBox(children=(IntProgress(value=0, max=12963), HTML(value='')))"
      ]
     },
     "metadata": {},
     "output_type": "display_data"
    },
    {
     "name": "stdout",
     "output_type": "stream",
     "text": [
      "\n"
     ]
    },
    {
     "data": {
      "application/vnd.jupyter.widget-view+json": {
       "model_id": "d8743abb4175492388f8b5e079813de6",
       "version_major": 2,
       "version_minor": 0
      },
      "text/plain": [
       "HBox(children=(IntProgress(value=0, max=9124), HTML(value='')))"
      ]
     },
     "metadata": {},
     "output_type": "display_data"
    },
    {
     "name": "stdout",
     "output_type": "stream",
     "text": [
      "\n",
      "9,124 articles for BMC Bioinformatics\n"
     ]
    },
    {
     "data": {
      "application/vnd.jupyter.widget-view+json": {
       "model_id": "e15d53716f464f3c99e8dd130ab5c132",
       "version_major": 2,
       "version_minor": 0
      },
      "text/plain": [
       "HBox(children=(IntProgress(value=0, max=9124), HTML(value='')))"
      ]
     },
     "metadata": {},
     "output_type": "display_data"
    },
    {
     "name": "stdout",
     "output_type": "stream",
     "text": [
      "\n"
     ]
    },
    {
     "data": {
      "application/vnd.jupyter.widget-view+json": {
       "model_id": "c08183f3d48e4d85903aabf1d2a6deb8",
       "version_major": 2,
       "version_minor": 0
      },
      "text/plain": [
       "HBox(children=(IntProgress(value=0, max=6349), HTML(value='')))"
      ]
     },
     "metadata": {},
     "output_type": "display_data"
    },
    {
     "name": "stdout",
     "output_type": "stream",
     "text": [
      "\n",
      "6,349 articles for PLoS Comput Biol\n"
     ]
    },
    {
     "data": {
      "application/vnd.jupyter.widget-view+json": {
       "model_id": "9178495421ec411298ddc860178e1e20",
       "version_major": 2,
       "version_minor": 0
      },
      "text/plain": [
       "HBox(children=(IntProgress(value=0, max=6349), HTML(value='')))"
      ]
     },
     "metadata": {},
     "output_type": "display_data"
    },
    {
     "name": "stdout",
     "output_type": "stream",
     "text": [
      "\n",
      "CPU times: user 2min 17s, sys: 1.81 s, total: 2min 19s\n",
      "Wall time: 6min 37s\n"
     ]
    }
   ],
   "source": [
    "%%time\n",
    "for journal in journals:\n",
    "    payload = {\n",
    "        'db': 'pubmed',\n",
    "        'term': f'\"journal article\"[pt] AND 2002:2019[dp] AND \"{journal}\"[Journal]',\n",
    "    }\n",
    "    pubmed_ids = esearch_query(payload, tqdm=tqdm.tqdm_notebook)\n",
    "    pubmed_ids = sorted(map(int, pubmed_ids))\n",
    "    print(f'{len(pubmed_ids):,} articles for {journal}')\n",
    "    \n",
    "    path = pathlib.Path('data/pubmed/efetch').joinpath(f'{journal}.xml.xz')\n",
    "    path.parent.mkdir(parents=True, exist_ok=True)\n",
    "    with lzma.open(path, 'wt') as write_file:\n",
    "        download_pubmed_ids(\n",
    "            pubmed_ids, write_file, endpoint='efetch',\n",
    "            retmax=200, retmin=50, sleep=0, error_sleep=1,\n",
    "            tqdm=tqdm.tqdm_notebook,\n",
    "        )"
   ]
  }
 ],
 "metadata": {
  "kernelspec": {
   "display_name": "Python 3",
   "language": "python",
   "name": "python3"
  },
  "language_info": {
   "codemirror_mode": {
    "name": "ipython",
    "version": 3
   },
   "file_extension": ".py",
   "mimetype": "text/x-python",
   "name": "python",
   "nbconvert_exporter": "python",
   "pygments_lexer": "ipython3",
   "version": "3.7.4"
  }
 },
 "nbformat": 4,
 "nbformat_minor": 2
}
