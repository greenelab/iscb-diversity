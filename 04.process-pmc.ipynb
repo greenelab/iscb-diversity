{
 "cells": [
  {
   "cell_type": "markdown",
   "metadata": {},
   "source": [
    "# Extract authors from PMC-OAI frontmatter `<article>` records"
   ]
  },
  {
   "cell_type": "code",
   "execution_count": 1,
   "metadata": {},
   "outputs": [],
   "source": [
    "import pathlib\n",
    "import zipfile\n",
    "\n",
    "import pandas\n",
    "import lxml.etree"
   ]
  },
  {
   "cell_type": "code",
   "execution_count": 2,
   "metadata": {},
   "outputs": [],
   "source": [
    "def yield_etrees_from_zip(path):\n",
    "    \"\"\"\n",
    "    Read members of a zip file with an `.xml` extension.\n",
    "    \"\"\"\n",
    "    with zipfile.ZipFile(path) as zip_file:\n",
    "        for name in zip_file.namelist():\n",
    "            if not name.endswith('.xml'):\n",
    "                continue\n",
    "            with zip_file.open(name) as read_file:\n",
    "                element_tree = lxml.etree.parse(read_file)\n",
    "                yield name, element_tree"
   ]
  },
  {
   "cell_type": "code",
   "execution_count": 3,
   "metadata": {},
   "outputs": [
    {
     "data": {
      "text/plain": [
       "[PosixPath('data/pmc/oai/pmc_fm/bioinfo.zip'),\n",
       " PosixPath('data/pmc/oai/pmc_fm/bmcbioi.zip'),\n",
       " PosixPath('data/pmc/oai/pmc_fm/ploscomp.zip')]"
      ]
     },
     "execution_count": 3,
     "metadata": {},
     "output_type": "execute_result"
    }
   ],
   "source": [
    "zip_paths = sorted(pathlib.Path('data/pmc/oai/pmc_fm').glob('*.zip'))\n",
    "zip_paths"
   ]
  },
  {
   "cell_type": "code",
   "execution_count": 4,
   "metadata": {},
   "outputs": [],
   "source": [
    "def extract_authors_from_article(article):\n",
    "    pmcid = article.findtext(\"{*}front/{*}article-meta/{*}article-id[@pub-id-type='pmcid']\")\n",
    "    contrib_elems = article.findall(\"{*}front/{*}article-meta/{*}contrib-group/{*}contrib[@contrib-type='author']\")\n",
    "    authors = []\n",
    "    for i, contrib_elem in enumerate(contrib_elems):\n",
    "        corresponding = (\n",
    "            contrib_elem.find(\"{*}xref[@ref-type='corresp']\") is not None\n",
    "            or contrib_elem.get('corresp', 'no') == 'yes'\n",
    "        )\n",
    "        authors.append({\n",
    "            'pmcid': pmcid,\n",
    "            'position': i + 1,\n",
    "            'fore_name': contrib_elem.findtext(\"{*}name/{*}given-names\"),\n",
    "            'last_name': contrib_elem.findtext(\"{*}name/{*}surname\"),\n",
    "            'corresponding': int(corresponding),\n",
    "            'reverse_position': len(contrib_elems) - i,\n",
    "        })\n",
    "    return authors"
   ]
  },
  {
   "cell_type": "code",
   "execution_count": 5,
   "metadata": {},
   "outputs": [
    {
     "data": {
      "text/html": [
       "<div>\n",
       "<style scoped>\n",
       "    .dataframe tbody tr th:only-of-type {\n",
       "        vertical-align: middle;\n",
       "    }\n",
       "\n",
       "    .dataframe tbody tr th {\n",
       "        vertical-align: top;\n",
       "    }\n",
       "\n",
       "    .dataframe thead th {\n",
       "        text-align: right;\n",
       "    }\n",
       "</style>\n",
       "<table border=\"1\" class=\"dataframe\">\n",
       "  <thead>\n",
       "    <tr style=\"text-align: right;\">\n",
       "      <th></th>\n",
       "      <th>pmcid</th>\n",
       "      <th>position</th>\n",
       "      <th>fore_name</th>\n",
       "      <th>last_name</th>\n",
       "      <th>corresponding</th>\n",
       "      <th>reverse_position</th>\n",
       "    </tr>\n",
       "  </thead>\n",
       "  <tbody>\n",
       "    <tr>\n",
       "      <td>22840</td>\n",
       "      <td>PMC77394</td>\n",
       "      <td>2</td>\n",
       "      <td>Ferdinando Di</td>\n",
       "      <td>Cunto</td>\n",
       "      <td>0</td>\n",
       "      <td>2</td>\n",
       "    </tr>\n",
       "    <tr>\n",
       "      <td>22841</td>\n",
       "      <td>PMC77394</td>\n",
       "      <td>3</td>\n",
       "      <td>Paolo</td>\n",
       "      <td>Provero</td>\n",
       "      <td>1</td>\n",
       "      <td>1</td>\n",
       "    </tr>\n",
       "    <tr>\n",
       "      <td>22842</td>\n",
       "      <td>PMC90187</td>\n",
       "      <td>1</td>\n",
       "      <td>Jonas S</td>\n",
       "      <td>Almeida</td>\n",
       "      <td>1</td>\n",
       "      <td>2</td>\n",
       "    </tr>\n",
       "    <tr>\n",
       "      <td>22843</td>\n",
       "      <td>PMC90187</td>\n",
       "      <td>2</td>\n",
       "      <td>Susana</td>\n",
       "      <td>Vinga</td>\n",
       "      <td>0</td>\n",
       "      <td>1</td>\n",
       "    </tr>\n",
       "    <tr>\n",
       "      <td>22844</td>\n",
       "      <td>PMC99049</td>\n",
       "      <td>1</td>\n",
       "      <td>Harry J</td>\n",
       "      <td>Mangalam</td>\n",
       "      <td>1</td>\n",
       "      <td>1</td>\n",
       "    </tr>\n",
       "  </tbody>\n",
       "</table>\n",
       "</div>"
      ],
      "text/plain": [
       "          pmcid  position      fore_name last_name  corresponding  \\\n",
       "22840  PMC77394         2  Ferdinando Di     Cunto              0   \n",
       "22841  PMC77394         3          Paolo   Provero              1   \n",
       "22842  PMC90187         1        Jonas S   Almeida              1   \n",
       "22843  PMC90187         2         Susana     Vinga              0   \n",
       "22844  PMC99049         1        Harry J  Mangalam              1   \n",
       "\n",
       "       reverse_position  \n",
       "22840                 2  \n",
       "22841                 1  \n",
       "22842                 2  \n",
       "22843                 1  \n",
       "22844                 1  "
      ]
     },
     "execution_count": 5,
     "metadata": {},
     "output_type": "execute_result"
    }
   ],
   "source": [
    "authors = list()\n",
    "for zip_path in zip_paths:\n",
    "    for name, article in yield_etrees_from_zip(zip_path):\n",
    "        authors.extend(extract_authors_from_article(article))\n",
    "author_df = pandas.DataFrame(authors)\n",
    "author_df = author_df.sort_values(['pmcid', 'position'])\n",
    "author_df.tail()"
   ]
  },
  {
   "cell_type": "code",
   "execution_count": 6,
   "metadata": {},
   "outputs": [
    {
     "data": {
      "text/plain": [
       "20880"
      ]
     },
     "execution_count": 6,
     "metadata": {},
     "output_type": "execute_result"
    }
   ],
   "source": [
    "# Total number of articles\n",
    "author_df.pmcid.nunique()"
   ]
  },
  {
   "cell_type": "code",
   "execution_count": 7,
   "metadata": {},
   "outputs": [
    {
     "data": {
      "text/plain": [
       "0       355\n",
       "1     16997\n",
       "2      3127\n",
       "3       298\n",
       "4        59\n",
       "5        19\n",
       "6         7\n",
       "7         2\n",
       "8         2\n",
       "9         6\n",
       "10        2\n",
       "11        1\n",
       "14        2\n",
       "15        1\n",
       "17        1\n",
       "21        1\n",
       "Name: corresponding, dtype: int64"
      ]
     },
     "execution_count": 7,
     "metadata": {},
     "output_type": "execute_result"
    }
   ],
   "source": [
    "# Corresponding author counts\n",
    "author_df.groupby('pmcid').corresponding.sum().value_counts().sort_index()"
   ]
  },
  {
   "cell_type": "code",
   "execution_count": 8,
   "metadata": {},
   "outputs": [
    {
     "data": {
      "text/html": [
       "<div>\n",
       "<style scoped>\n",
       "    .dataframe tbody tr th:only-of-type {\n",
       "        vertical-align: middle;\n",
       "    }\n",
       "\n",
       "    .dataframe tbody tr th {\n",
       "        vertical-align: top;\n",
       "    }\n",
       "\n",
       "    .dataframe thead th {\n",
       "        text-align: right;\n",
       "    }\n",
       "</style>\n",
       "<table border=\"1\" class=\"dataframe\">\n",
       "  <thead>\n",
       "    <tr style=\"text-align: right;\">\n",
       "      <th></th>\n",
       "      <th>pmcid</th>\n",
       "      <th>corresponding</th>\n",
       "    </tr>\n",
       "  </thead>\n",
       "  <tbody>\n",
       "    <tr>\n",
       "      <td>105</td>\n",
       "      <td>PMC1183510</td>\n",
       "      <td>0</td>\n",
       "    </tr>\n",
       "    <tr>\n",
       "      <td>106</td>\n",
       "      <td>PMC1183511</td>\n",
       "      <td>0</td>\n",
       "    </tr>\n",
       "    <tr>\n",
       "      <td>107</td>\n",
       "      <td>PMC1183512</td>\n",
       "      <td>0</td>\n",
       "    </tr>\n",
       "    <tr>\n",
       "      <td>119</td>\n",
       "      <td>PMC1185644</td>\n",
       "      <td>0</td>\n",
       "    </tr>\n",
       "    <tr>\n",
       "      <td>160</td>\n",
       "      <td>PMC1193992</td>\n",
       "      <td>0</td>\n",
       "    </tr>\n",
       "  </tbody>\n",
       "</table>\n",
       "</div>"
      ],
      "text/plain": [
       "          pmcid  corresponding\n",
       "105  PMC1183510              0\n",
       "106  PMC1183511              0\n",
       "107  PMC1183512              0\n",
       "119  PMC1185644              0\n",
       "160  PMC1193992              0"
      ]
     },
     "execution_count": 8,
     "metadata": {},
     "output_type": "execute_result"
    }
   ],
   "source": [
    "# Testing: show some articles without any corresponding authors\n",
    "author_df.groupby('pmcid').corresponding.sum().reset_index().query(\"corresponding == 0\").head()"
   ]
  },
  {
   "cell_type": "code",
   "execution_count": 9,
   "metadata": {},
   "outputs": [],
   "source": [
    "# Write author dataframe to a TSV\n",
    "author_df.to_csv('data/pmc/authors.tsv.xz', index=False, sep='\\t')"
   ]
  }
 ],
 "metadata": {
  "kernelspec": {
   "display_name": "Python 3",
   "language": "python",
   "name": "python3"
  },
  "language_info": {
   "codemirror_mode": {
    "name": "ipython",
    "version": 3
   },
   "file_extension": ".py",
   "mimetype": "text/x-python",
   "name": "python",
   "nbconvert_exporter": "python",
   "pygments_lexer": "ipython3",
   "version": "3.7.4"
  }
 },
 "nbformat": 4,
 "nbformat_minor": 2
}
