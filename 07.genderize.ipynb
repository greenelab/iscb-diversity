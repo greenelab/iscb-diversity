{
 "cells": [
  {
   "cell_type": "markdown",
   "metadata": {},
   "source": [
    "# Gender predictions for names"
   ]
  },
  {
   "cell_type": "code",
   "execution_count": 1,
   "metadata": {},
   "outputs": [],
   "source": [
    "import datetime\n",
    "import pathlib\n",
    "import pandas\n",
    "import ratelimit\n",
    "import requests\n",
    "import jsonlines"
   ]
  },
  {
   "cell_type": "code",
   "execution_count": 2,
   "metadata": {},
   "outputs": [
    {
     "data": {
      "text/html": [
       "<div>\n",
       "<style scoped>\n",
       "    .dataframe tbody tr th:only-of-type {\n",
       "        vertical-align: middle;\n",
       "    }\n",
       "\n",
       "    .dataframe tbody tr th {\n",
       "        vertical-align: top;\n",
       "    }\n",
       "\n",
       "    .dataframe thead th {\n",
       "        text-align: right;\n",
       "    }\n",
       "</style>\n",
       "<table border=\"1\" class=\"dataframe\">\n",
       "  <thead>\n",
       "    <tr style=\"text-align: right;\">\n",
       "      <th></th>\n",
       "      <th>name</th>\n",
       "      <th>count</th>\n",
       "    </tr>\n",
       "  </thead>\n",
       "  <tbody>\n",
       "    <tr>\n",
       "      <td>0</td>\n",
       "      <td>a-sol</td>\n",
       "      <td>2</td>\n",
       "    </tr>\n",
       "    <tr>\n",
       "      <td>1</td>\n",
       "      <td>aabid</td>\n",
       "      <td>2</td>\n",
       "    </tr>\n",
       "  </tbody>\n",
       "</table>\n",
       "</div>"
      ],
      "text/plain": [
       "    name  count\n",
       "0  a-sol      2\n",
       "1  aabid      2"
      ]
     },
     "execution_count": 2,
     "metadata": {},
     "output_type": "execute_result"
    }
   ],
   "source": [
    "name_df = pandas.read_csv('data/simplified-fore-names.tsv', sep='\\t', keep_default_na=False)\n",
    "# read_csv keep_default_na=True (deafult) interprets some names as NaN\n",
    "assert name_df[name_df.name.isna()].empty\n",
    "name_df.head(2)"
   ]
  },
  {
   "cell_type": "code",
   "execution_count": 3,
   "metadata": {},
   "outputs": [],
   "source": [
    "# @backoff.on_exception(backoff.expo, requests.exceptions.RequestException)\n",
    "@ratelimit.limits(calls=90*5, period=86_400)\n",
    "def request_genderize_io(names):\n",
    "    assert 1 <= len(names) <= 10\n",
    "    url = \"https://api.genderize.io\"\n",
    "    params = {\n",
    "        f\"name[{i}]\": name\n",
    "        for i, name in enumerate(names)\n",
    "    }\n",
    "    response = requests.get(url, params)\n",
    "    response.raise_for_status()\n",
    "    results = response.json()\n",
    "    for result in results:\n",
    "        result['query_date'] = datetime.datetime.utcnow().date().isoformat()\n",
    "    return results"
   ]
  },
  {
   "cell_type": "code",
   "execution_count": 4,
   "metadata": {},
   "outputs": [],
   "source": [
    "def grouper(iterable, n):\n",
    "    \"\"\"\n",
    "    Collect data into fixed-length chunks or blocks\n",
    "    https://docs.python.org/3/library/itertools.html\n",
    "    grouper('ABCDEFG', 3, 'x') --> ABC DEF Gxx\"\n",
    "    \"\"\"\n",
    "    from itertools import zip_longest\n",
    "    args = [iter(iterable)] * n\n",
    "    return zip_longest(*args)\n",
    "\n",
    "def genderize_names(names):\n",
    "    for subset in grouper(names, n=10):\n",
    "        yield from request_genderize_io(subset)"
   ]
  },
  {
   "cell_type": "code",
   "execution_count": 5,
   "metadata": {},
   "outputs": [
    {
     "name": "stdout",
     "output_type": "stream",
     "text": [
      "18,578 total names: 18,578 already queried, 0 new\n"
     ]
    }
   ],
   "source": [
    "path = pathlib.Path('data/genderize.jsonl')\n",
    "lines = jsonlines.open(path) if path.exists() else []\n",
    "existing_names = {row['name'] for row in lines}\n",
    "all_names = name_df.sort_values('count', ascending=False).name\n",
    "new_names = all_names[~all_names.isin(existing_names)]\n",
    "print(f\"{len(all_names):,} total names: {len(existing_names):,} already queried, {len(new_names):,} new\")"
   ]
  },
  {
   "cell_type": "code",
   "execution_count": 6,
   "metadata": {
    "scrolled": true
   },
   "outputs": [],
   "source": [
    "with jsonlines.open(path, mode='a') as writer:\n",
    "    results = genderize_names(new_names)\n",
    "    for result in results:\n",
    "        writer.write(result)"
   ]
  }
 ],
 "metadata": {
  "kernelspec": {
   "display_name": "Python 3",
   "language": "python",
   "name": "python3"
  },
  "language_info": {
   "codemirror_mode": {
    "name": "ipython",
    "version": 3
   },
   "file_extension": ".py",
   "mimetype": "text/x-python",
   "name": "python",
   "nbconvert_exporter": "python",
   "pygments_lexer": "ipython3",
   "version": "3.7.4"
  }
 },
 "nbformat": 4,
 "nbformat_minor": 2
}
